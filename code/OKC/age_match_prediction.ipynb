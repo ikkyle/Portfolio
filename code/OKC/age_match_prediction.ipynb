{
 "cells": [
  {
   "cell_type": "markdown",
   "metadata": {},
   "source": [
    "# Exploring the Explanatory Power of Age\n",
    "\n",
    "I'd like to know if the age of a user has any bearing on match percent. This is a fairly straightforward linear model--simply predict match percent with age. I'll also explore the effect of controlling for gender and sexual orientation in the model, but the interpretation of any effect there is difficult--since match percent is some measure of how my responses to questions match with another user and vice versa, societal norms and their influence play a part in many ways: users encoding our own biases and beliefs into the responses to the questions posed to us, the phrasing of questions and answer choices on the site, and the underlying model of matching that the site uses all will encoded biases into match percentages, but how and to what extent is impossible without access to the underlying models and individual questions. For that reason, I have no prediction of how including these controls will affect the results and no insight on how to interpret any effect therein. \n"
   ]
  },
  {
   "cell_type": "code",
   "execution_count": 1,
   "metadata": {},
   "outputs": [],
   "source": [
    "import warnings\n",
    "warnings.filterwarnings('ignore')\n",
    "\n",
    "import pandas as pd\n",
    "import numpy as np\n",
    "import matplotlib.pyplot as plt\n",
    "import seaborn as sns\n",
    "\n",
    "import statsmodels.formula.api as smf\n",
    "\n",
    "np.set_printoptions(suppress=True)"
   ]
  },
  {
   "cell_type": "markdown",
   "metadata": {},
   "source": [
    "## Loading Data\n",
    "\n",
    "We'll start by querying the SQLite database, pulling in the data we need and creating a few dummy variables from the `basic_info` field, which is a text field with info about sexual orientation, gender identity, body type, relationship status, etc. The response categories here are finite but vast: gender identity, for example, has as many as 20 possible selections and the user can select up to five to appear. Here I'll break it down to just \"Woman\", \"Man\", and \"Other\". \n",
    "\n",
    "I already parsed age out of the data in the process of scraping it, so we can avoid that part here. "
   ]
  },
  {
   "cell_type": "code",
   "execution_count": 3,
   "metadata": {},
   "outputs": [],
   "source": [
    "db = 'sqlite:///data/userdata.db'\n",
    "\n",
    "sql = \"\"\"\n",
    "select \n",
    "  username, \n",
    "  age, \n",
    "  match_pct, \n",
    "  enemy_pct,\n",
    "  religion_pct,\n",
    "  CASE WHEN basic_info like \"%Woman%\" THEN 1 ELSE 0 END AS gender_female,\n",
    "  CASE WHEN basic_info like \"%Man%\" THEN 1 ELSE 0 END AS gender_male,\n",
    "  CASE WHEN basic_info like \"%Straight%\" THEN 1 ELSE 0 END AS is_straight\n",
    "from tbl_userdata\n",
    "\"\"\""
   ]
  },
  {
   "cell_type": "code",
   "execution_count": 4,
   "metadata": {},
   "outputs": [],
   "source": [
    "df = pd.read_sql(sql=sql, con=db,index_col='username')"
   ]
  },
  {
   "cell_type": "code",
   "execution_count": 5,
   "metadata": {},
   "outputs": [],
   "source": [
    "df['gender_other'] = (df['gender_female'] + df['gender_male'] == 0) * 1"
   ]
  },
  {
   "cell_type": "markdown",
   "metadata": {},
   "source": [
    "## Exploring the data\n",
    "\n",
    "If we take a look at the histogram of the various match percent metrics pulled, we see that all are zero truncated. Because a value of zero often means the user answered no questions, not that the actual match is that low, we can safely set any cases where match is zero to missing. \n",
    "\n",
    "We can also see that we're running pretty low on religion percent data and it's more highly skewed than the match and enemy percentages. It'll be interesting to compare the trends we see with religion to the others and see where differences crop up. "
   ]
  },
  {
   "cell_type": "code",
   "execution_count": 6,
   "metadata": {},
   "outputs": [
    {
     "data": {
      "text/plain": [
       "<Figure size 432x288 with 0 Axes>"
      ]
     },
     "metadata": {},
     "output_type": "display_data"
    },
    {
     "data": {
      "image/png": "[encoded data removed]",
      "text/plain": [
       "<Figure size 432x288 with 1 Axes>"
      ]
     },
     "metadata": {},
     "output_type": "display_data"
    }
   ],
   "source": [
    "plt.figure();\n",
    "df[['religion_pct', 'match_pct', 'enemy_pct']].plot.hist(stacked=True, bins=30);"
   ]
  },
  {
   "cell_type": "markdown",
   "metadata": {},
   "source": [
    "## Analysis\n",
    "\n",
    "My hypothesis is that there will be no discernible trend in match or enemy percent by age, but religion percent will show higher matches with young people than older people. I base this only on the fact that atheism is on the rise, so young people are more likely to be atheist and thus, more like to match with me in religious belief than older people. I'd also _might_ guess that if I control for sexual orientation and gender, we'll see an age effect appear in the match percent category. This is based on the idea that if we are able to add in controls for gender identities outside the binary and sexual orientations other than 'straight', we'll see that younger progressives are more in line with my beliefs than older progressives. This assumes that we can proxy \"progressive\" using identity and orientation only (which fails the sniff test, but alas, this is for fun). "
   ]
  },
  {
   "cell_type": "markdown",
   "metadata": {},
   "source": [
    "If we start by plotting the data, we see this effect I predicted when paneling by the `gender_other` variable: that there is no age effect in general, but we do see an effect for individuals not identifying as a Man or a Woman. "
   ]
  },
  {
   "cell_type": "code",
   "execution_count": 7,
   "metadata": {},
   "outputs": [
    {
     "data": {
      "text/plain": [
       "<seaborn.axisgrid.FacetGrid at 0x7f59ba59bbe0>"
      ]
     },
     "execution_count": 7,
     "metadata": {},
     "output_type": "execute_result"
    },
    {
     "data": {
      "image/png": "[encoded data removed]",
      "text/plain": [
       "<Figure size 435x360 with 1 Axes>"
      ]
     },
     "metadata": {},
     "output_type": "display_data"
    }
   ],
   "source": [
    "sns.lmplot(x='age', \n",
    "           y='match_pct', \n",
    "           hue='gender_other',\n",
    "           data=df, \n",
    "           scatter=False, \n",
    "           truncate=True)"
   ]
  },
  {
   "cell_type": "code",
   "execution_count": 8,
   "metadata": {},
   "outputs": [
    {
     "data": {
      "text/html": [
       "<table class=\"simpletable\">\n",
       "<caption>OLS Regression Results</caption>\n",
       "<tr>\n",
       "  <th>Dep. Variable:</th>        <td>match_pct</td>    <th>  R-squared:         </th>  <td>   0.029</td>  \n",
       "</tr>\n",
       "<tr>\n",
       "  <th>Model:</th>                   <td>OLS</td>       <th>  Adj. R-squared:    </th>  <td>   0.029</td>  \n",
       "</tr>\n",
       "<tr>\n",
       "  <th>Method:</th>             <td>Least Squares</td>  <th>  F-statistic:       </th>  <td>   3578.</td>  \n",
       "</tr>\n",
       "<tr>\n",
       "  <th>Date:</th>             <td>Thu, 16 Aug 2018</td> <th>  Prob (F-statistic):</th>   <td>  0.00</td>   \n",
       "</tr>\n",
       "<tr>\n",
       "  <th>Time:</th>                 <td>11:37:17</td>     <th>  Log-Likelihood:    </th> <td>-2.2068e+06</td>\n",
       "</tr>\n",
       "<tr>\n",
       "  <th>No. Observations:</th>      <td>480654</td>      <th>  AIC:               </th>  <td>4.414e+06</td> \n",
       "</tr>\n",
       "<tr>\n",
       "  <th>Df Residuals:</th>          <td>480649</td>      <th>  BIC:               </th>  <td>4.414e+06</td> \n",
       "</tr>\n",
       "<tr>\n",
       "  <th>Df Model:</th>              <td>     4</td>      <th>                     </th>      <td> </td>     \n",
       "</tr>\n",
       "<tr>\n",
       "  <th>Covariance Type:</th>      <td>nonrobust</td>    <th>                     </th>      <td> </td>     \n",
       "</tr>\n",
       "</table>\n",
       "<table class=\"simpletable\">\n",
       "<tr>\n",
       "          <td></td>            <th>coef</th>     <th>std err</th>      <th>t</th>      <th>P>|t|</th>  <th>[0.025</th>    <th>0.975]</th>  \n",
       "</tr>\n",
       "<tr>\n",
       "  <th>Intercept</th>        <td>   64.5589</td> <td>    0.148</td> <td>  435.779</td> <td> 0.000</td> <td>   64.269</td> <td>   64.849</td>\n",
       "</tr>\n",
       "<tr>\n",
       "  <th>age</th>              <td>    0.0514</td> <td>    0.003</td> <td>   16.570</td> <td> 0.000</td> <td>    0.045</td> <td>    0.057</td>\n",
       "</tr>\n",
       "<tr>\n",
       "  <th>gender_other</th>     <td>   15.9535</td> <td>    2.226</td> <td>    7.168</td> <td> 0.000</td> <td>   11.591</td> <td>   20.316</td>\n",
       "</tr>\n",
       "<tr>\n",
       "  <th>age:gender_other</th> <td>   -0.1778</td> <td>    0.082</td> <td>   -2.178</td> <td> 0.029</td> <td>   -0.338</td> <td>   -0.018</td>\n",
       "</tr>\n",
       "<tr>\n",
       "  <th>is_straight</th>      <td>  -14.2775</td> <td>    0.126</td> <td> -113.499</td> <td> 0.000</td> <td>  -14.524</td> <td>  -14.031</td>\n",
       "</tr>\n",
       "</table>\n",
       "<table class=\"simpletable\">\n",
       "<tr>\n",
       "  <th>Omnibus:</th>       <td>22613.270</td> <th>  Durbin-Watson:     </th> <td>   1.873</td> \n",
       "</tr>\n",
       "<tr>\n",
       "  <th>Prob(Omnibus):</th>  <td> 0.000</td>   <th>  Jarque-Bera (JB):  </th> <td>24616.731</td>\n",
       "</tr>\n",
       "<tr>\n",
       "  <th>Skew:</th>           <td>-0.534</td>   <th>  Prob(JB):          </th> <td>    0.00</td> \n",
       "</tr>\n",
       "<tr>\n",
       "  <th>Kurtosis:</th>       <td> 2.705</td>   <th>  Cond. No.          </th> <td>2.42e+03</td> \n",
       "</tr>\n",
       "</table><br/><br/>Warnings:<br/>[1] Standard Errors assume that the covariance matrix of the errors is correctly specified.<br/>[2] The condition number is large, 2.42e+03. This might indicate that there are<br/>strong multicollinearity or other numerical problems."
      ],
      "text/plain": [
       "<class 'statsmodels.iolib.summary.Summary'>\n",
       "\"\"\"\n",
       "                            OLS Regression Results                            \n",
       "==============================================================================\n",
       "Dep. Variable:              match_pct   R-squared:                       0.029\n",
       "Model:                            OLS   Adj. R-squared:                  0.029\n",
       "Method:                 Least Squares   F-statistic:                     3578.\n",
       "Date:                Thu, 16 Aug 2018   Prob (F-statistic):               0.00\n",
       "Time:                        11:37:17   Log-Likelihood:            -2.2068e+06\n",
       "No. Observations:              480654   AIC:                         4.414e+06\n",
       "Df Residuals:                  480649   BIC:                         4.414e+06\n",
       "Df Model:                           4                                         \n",
       "Covariance Type:            nonrobust                                         \n",
       "====================================================================================\n",
       "                       coef    std err          t      P>|t|      [0.025      0.975]\n",
       "------------------------------------------------------------------------------------\n",
       "Intercept           64.5589      0.148    435.779      0.000      64.269      64.849\n",
       "age                  0.0514      0.003     16.570      0.000       0.045       0.057\n",
       "gender_other        15.9535      2.226      7.168      0.000      11.591      20.316\n",
       "age:gender_other    -0.1778      0.082     -2.178      0.029      -0.338      -0.018\n",
       "is_straight        -14.2775      0.126   -113.499      0.000     -14.524     -14.031\n",
       "==============================================================================\n",
       "Omnibus:                    22613.270   Durbin-Watson:                   1.873\n",
       "Prob(Omnibus):                  0.000   Jarque-Bera (JB):            24616.731\n",
       "Skew:                          -0.534   Prob(JB):                         0.00\n",
       "Kurtosis:                       2.705   Cond. No.                     2.42e+03\n",
       "==============================================================================\n",
       "\n",
       "Warnings:\n",
       "[1] Standard Errors assume that the covariance matrix of the errors is correctly specified.\n",
       "[2] The condition number is large, 2.42e+03. This might indicate that there are\n",
       "strong multicollinearity or other numerical problems.\n",
       "\"\"\""
      ]
     },
     "execution_count": 8,
     "metadata": {},
     "output_type": "execute_result"
    }
   ],
   "source": [
    "fit1 = smf.ols('match_pct ~ age * gender_other + is_straight', data=df).fit()\n",
    "fit1.summary()"
   ]
  },
  {
   "cell_type": "markdown",
   "metadata": {},
   "source": [
    "Taking a look at the coefficients, we also see very strong effects for out gender identity and sexual orientation controls and fairly low standard error across the board. P-values are all significant, but we have a lot of data (almost 500k users), so this is expected. We might consider this an exciting finding until we take a look at the R-squared value. "
   ]
  },
  {
   "cell_type": "code",
   "execution_count": 9,
   "metadata": {},
   "outputs": [
    {
     "name": "stdout",
     "output_type": "stream",
     "text": [
      "0.0289\n"
     ]
    }
   ],
   "source": [
    "print(fit1.rsquared_adj.round(4))"
   ]
  },
  {
   "cell_type": "markdown",
   "metadata": {},
   "source": [
    "Our predictors can only account for 3% of the variance in match percent. And if we look at a model where we're not controlling for gender or sexual orientation at all, that values approaches zero."
   ]
  },
  {
   "cell_type": "code",
   "execution_count": 10,
   "metadata": {},
   "outputs": [
    {
     "data": {
      "text/plain": [
       "7.6e-05"
      ]
     },
     "execution_count": 10,
     "metadata": {},
     "output_type": "execute_result"
    }
   ],
   "source": [
    "smf.ols('match_pct ~ age', data=df).fit().rsquared_adj.round(6)"
   ]
  },
  {
   "cell_type": "markdown",
   "metadata": {},
   "source": [
    "So almost all of that explanatory power comes from our demographic controls, not from age. Enemy percent is the same story."
   ]
  },
  {
   "cell_type": "code",
   "execution_count": 11,
   "metadata": {},
   "outputs": [
    {
     "name": "stdout",
     "output_type": "stream",
     "text": [
      "R-squared with controls: 0.0256\n",
      "R-squared reduced: 0.001256\n"
     ]
    }
   ],
   "source": [
    "print(\"R-squared with controls:\", smf.ols('enemy_pct ~ age * gender_other + is_straight', data=df).fit().rsquared_adj.round(4))\n",
    "print(\"R-squared reduced:\", smf.ols('enemy_pct ~ age', data=df).fit().rsquared_adj.round(6))"
   ]
  },
  {
   "cell_type": "markdown",
   "metadata": {},
   "source": [
    "### Domain-specific Match: Religion\n",
    "\n",
    "If we look at a domain-specific match metric like religion, as I said earlier, I expect to see more of an age trend, since this ends up being more of a proxy for generational attitudes that match with mine. An initial plot of the data supports this. "
   ]
  },
  {
   "cell_type": "code",
   "execution_count": 12,
   "metadata": {},
   "outputs": [
    {
     "data": {
      "text/plain": [
       "<seaborn.axisgrid.FacetGrid at 0x7f59b8e559e8>"
      ]
     },
     "execution_count": 12,
     "metadata": {},
     "output_type": "execute_result"
    },
    {
     "data": {
      "image/png": "[encoded data removed]",
      "text/plain": [
       "<Figure size 360x360 with 1 Axes>"
      ]
     },
     "metadata": {},
     "output_type": "display_data"
    }
   ],
   "source": [
    "sns.lmplot(x='age', \n",
    "           y='religion_pct', \n",
    "           data=df, \n",
    "           scatter=False, \n",
    "           truncate=True)"
   ]
  },
  {
   "cell_type": "markdown",
   "metadata": {},
   "source": [
    "It is important to note that a simple linear model may not suffice here. Quadratic effects seem like an important angle to explore, given that there may be an ideal age here. This is also true of the match and enemy percent data. "
   ]
  },
  {
   "cell_type": "code",
   "execution_count": 13,
   "metadata": {},
   "outputs": [
    {
     "data": {
      "text/html": [
       "<table class=\"simpletable\">\n",
       "<caption>OLS Regression Results</caption>\n",
       "<tr>\n",
       "  <th>Dep. Variable:</th>      <td>religion_pct</td>   <th>  R-squared:         </th>  <td>   0.045</td>  \n",
       "</tr>\n",
       "<tr>\n",
       "  <th>Model:</th>                   <td>OLS</td>       <th>  Adj. R-squared:    </th>  <td>   0.045</td>  \n",
       "</tr>\n",
       "<tr>\n",
       "  <th>Method:</th>             <td>Least Squares</td>  <th>  F-statistic:       </th>  <td>   1300.</td>  \n",
       "</tr>\n",
       "<tr>\n",
       "  <th>Date:</th>             <td>Thu, 16 Aug 2018</td> <th>  Prob (F-statistic):</th>   <td>  0.00</td>   \n",
       "</tr>\n",
       "<tr>\n",
       "  <th>Time:</th>                 <td>11:37:30</td>     <th>  Log-Likelihood:    </th> <td>-6.5554e+05</td>\n",
       "</tr>\n",
       "<tr>\n",
       "  <th>No. Observations:</th>      <td>137337</td>      <th>  AIC:               </th>  <td>1.311e+06</td> \n",
       "</tr>\n",
       "<tr>\n",
       "  <th>Df Residuals:</th>          <td>137331</td>      <th>  BIC:               </th>  <td>1.311e+06</td> \n",
       "</tr>\n",
       "<tr>\n",
       "  <th>Df Model:</th>              <td>     5</td>      <th>                     </th>      <td> </td>     \n",
       "</tr>\n",
       "<tr>\n",
       "  <th>Covariance Type:</th>      <td>nonrobust</td>    <th>                     </th>      <td> </td>     \n",
       "</tr>\n",
       "</table>\n",
       "<table class=\"simpletable\">\n",
       "<tr>\n",
       "        <td></td>          <th>coef</th>     <th>std err</th>      <th>t</th>      <th>P>|t|</th>  <th>[0.025</th>    <th>0.975]</th>  \n",
       "</tr>\n",
       "<tr>\n",
       "  <th>Intercept</th>    <td>   -7.6628</td> <td>    2.256</td> <td>   -3.397</td> <td> 0.001</td> <td>  -12.084</td> <td>   -3.241</td>\n",
       "</tr>\n",
       "<tr>\n",
       "  <th>age</th>          <td>    5.8425</td> <td>    0.176</td> <td>   33.279</td> <td> 0.000</td> <td>    5.498</td> <td>    6.187</td>\n",
       "</tr>\n",
       "<tr>\n",
       "  <th>age2</th>         <td>   -0.1467</td> <td>    0.004</td> <td>  -34.266</td> <td> 0.000</td> <td>   -0.155</td> <td>   -0.138</td>\n",
       "</tr>\n",
       "<tr>\n",
       "  <th>age:age2</th>     <td>    0.0011</td> <td> 3.31e-05</td> <td>   32.659</td> <td> 0.000</td> <td>    0.001</td> <td>    0.001</td>\n",
       "</tr>\n",
       "<tr>\n",
       "  <th>gender_other</th> <td>    5.3125</td> <td>    1.023</td> <td>    5.195</td> <td> 0.000</td> <td>    3.308</td> <td>    7.317</td>\n",
       "</tr>\n",
       "<tr>\n",
       "  <th>is_straight</th>  <td>   -9.5889</td> <td>    0.243</td> <td>  -39.467</td> <td> 0.000</td> <td>  -10.065</td> <td>   -9.113</td>\n",
       "</tr>\n",
       "</table>\n",
       "<table class=\"simpletable\">\n",
       "<tr>\n",
       "  <th>Omnibus:</th>       <td>37577.920</td> <th>  Durbin-Watson:     </th> <td>   1.890</td> \n",
       "</tr>\n",
       "<tr>\n",
       "  <th>Prob(Omnibus):</th>  <td> 0.000</td>   <th>  Jarque-Bera (JB):  </th> <td>13661.637</td>\n",
       "</tr>\n",
       "<tr>\n",
       "  <th>Skew:</th>           <td>-0.591</td>   <th>  Prob(JB):          </th> <td>    0.00</td> \n",
       "</tr>\n",
       "<tr>\n",
       "  <th>Kurtosis:</th>       <td> 2.005</td>   <th>  Cond. No.          </th> <td>2.52e+06</td> \n",
       "</tr>\n",
       "</table><br/><br/>Warnings:<br/>[1] Standard Errors assume that the covariance matrix of the errors is correctly specified.<br/>[2] The condition number is large, 2.52e+06. This might indicate that there are<br/>strong multicollinearity or other numerical problems."
      ],
      "text/plain": [
       "<class 'statsmodels.iolib.summary.Summary'>\n",
       "\"\"\"\n",
       "                            OLS Regression Results                            \n",
       "==============================================================================\n",
       "Dep. Variable:           religion_pct   R-squared:                       0.045\n",
       "Model:                            OLS   Adj. R-squared:                  0.045\n",
       "Method:                 Least Squares   F-statistic:                     1300.\n",
       "Date:                Thu, 16 Aug 2018   Prob (F-statistic):               0.00\n",
       "Time:                        11:37:30   Log-Likelihood:            -6.5554e+05\n",
       "No. Observations:              137337   AIC:                         1.311e+06\n",
       "Df Residuals:                  137331   BIC:                         1.311e+06\n",
       "Df Model:                           5                                         \n",
       "Covariance Type:            nonrobust                                         \n",
       "================================================================================\n",
       "                   coef    std err          t      P>|t|      [0.025      0.975]\n",
       "--------------------------------------------------------------------------------\n",
       "Intercept       -7.6628      2.256     -3.397      0.001     -12.084      -3.241\n",
       "age              5.8425      0.176     33.279      0.000       5.498       6.187\n",
       "age2            -0.1467      0.004    -34.266      0.000      -0.155      -0.138\n",
       "age:age2         0.0011   3.31e-05     32.659      0.000       0.001       0.001\n",
       "gender_other     5.3125      1.023      5.195      0.000       3.308       7.317\n",
       "is_straight     -9.5889      0.243    -39.467      0.000     -10.065      -9.113\n",
       "==============================================================================\n",
       "Omnibus:                    37577.920   Durbin-Watson:                   1.890\n",
       "Prob(Omnibus):                  0.000   Jarque-Bera (JB):            13661.637\n",
       "Skew:                          -0.591   Prob(JB):                         0.00\n",
       "Kurtosis:                       2.005   Cond. No.                     2.52e+06\n",
       "==============================================================================\n",
       "\n",
       "Warnings:\n",
       "[1] Standard Errors assume that the covariance matrix of the errors is correctly specified.\n",
       "[2] The condition number is large, 2.52e+06. This might indicate that there are\n",
       "strong multicollinearity or other numerical problems.\n",
       "\"\"\""
      ]
     },
     "execution_count": 13,
     "metadata": {},
     "output_type": "execute_result"
    }
   ],
   "source": [
    "df['age2'] = df.age.pow(2)\n",
    "fit2 = smf.ols('religion_pct ~ age+age2 + age*age2 + gender_other + is_straight', data=df).fit()\n",
    "fit2_redux = smf.ols('religion_pct ~ age+age2 + age*age2', data=df).fit()\n",
    "fit2.summary()"
   ]
  },
  {
   "cell_type": "code",
   "execution_count": 14,
   "metadata": {},
   "outputs": [],
   "source": [
    "x_predict = pd.DataFrame({'age': range(20,80),\n",
    "                         'gender_other': df['gender_other'].mean(),\n",
    "                         'is_straight': df['is_straight'].mean()})\n",
    "x_predict['age2'] = x_predict['age'].pow(2)\n",
    "\n",
    "pred = fit2.get_prediction(x_predict)\n",
    "pred_df = pred.summary_frame()\n",
    "pred_df['age'] = x_predict['age']\n",
    "\n",
    "pred_redux = fit2_redux.get_prediction(x_predict)\n",
    "pred_df_redux = pred_redux.summary_frame()\n",
    "pred_df_redux['age'] = x_predict['age']"
   ]
  },
  {
   "cell_type": "code",
   "execution_count": 15,
   "metadata": {},
   "outputs": [
    {
     "data": {
      "image/png": "[encoded data removed]",
      "text/plain": [
       "<Figure size 432x432 with 1 Axes>"
      ]
     },
     "metadata": {},
     "output_type": "display_data"
    }
   ],
   "source": [
    "def plot_eff(x, data, y='mean', ci_low='mean_ci_lower', ci_upp='mean_ci_upper', xlab=None, ylab=None):\n",
    "    plt.figure(figsize=(6, 6))\n",
    "    ax = plt.subplot(111)\n",
    "    ax.plot(data[x], data[y], '-', lw=2, label = \"Predicted Percent\")\n",
    "    ax.fill_between(data[x], data[ci_low], data[ci_upp], alpha=0.2)\n",
    "    ax.legend(loc='best');\n",
    "    ax.grid(b=True, which='major', color='w', linewidth=1.0)\n",
    "    ax.grid(b=True, which='minor', color='w', linewidth=0.5)\n",
    "\n",
    "    ax.set_xlabel(xlab)\n",
    "    ax.set_ylabel(ylab)\n",
    "    ax.set_ylim([0, 100])\n",
    "    ax.set_xlim([20, 80])\n",
    "    plt.show()\n",
    "    return plt\n",
    "\n",
    "plot_eff(x='age', data=pred_df, xlab='Age', ylab='Predicted Religion Percent Match');\n",
    "#plot_eff(x='age', data=pred_df_redux, xlab='Age', ylab='Predicted Religion Percent Match');"
   ]
  },
  {
   "cell_type": "markdown",
   "metadata": {},
   "source": [
    "Adding in the quadratic effect shows a significant effect, with a maxima in the late-20's, which again, if we are seeing this as a proxy for generational attitudes towards religion, this makes sense. But again, our R-squared is low (0.045) and this model has next to no explanatory power.      \n",
    "\n",
    "## Conclusion\n",
    "\n",
    "This is what I had hoped to find from this analysis. A metric that determines matches on a dating site _should_ be orthogonal to age. Since a user can see another user's age, that piece of info can be part of that user's evaluation of the potential match and shouldn't be also encoded into the match percent value shown to the user. \n",
    "\n",
    "The presence and absence of an effect for the `gender_other` control also I think says something about latent constructs that accompany the use of non-binary genders, the increase of acceptance of non-binary genders in younger generations, and my own identity in that domain. I think including that control in analysis of age in relation to match percent offers some interesting insights to cohort effects, but is ultimately the incorrect methodology to tease out these effects. "
   ]
  }
 ],
 "metadata": {
  "kernelspec": {
   "display_name": "Python3 (portfolio)",
   "language": "python",
   "name": "portfolio"
  },
  "language_info": {
   "codemirror_mode": {
    "name": "ipython",
    "version": 3
   },
   "file_extension": ".py",
   "mimetype": "text/x-python",
   "name": "python",
   "nbconvert_exporter": "python",
   "pygments_lexer": "ipython3",
   "version": "3.6.6"
  }
 },
 "nbformat": 4,
 "nbformat_minor": 2
}
